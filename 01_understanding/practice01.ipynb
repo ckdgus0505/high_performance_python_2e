{
 "cells": [
  {
   "cell_type": "code",
   "execution_count": 1,
   "metadata": {},
   "outputs": [],
   "source": [
    "import math\n",
    "import numpy as np\n",
    "import timeit"
   ]
  },
  {
   "cell_type": "code",
   "execution_count": 2,
   "metadata": {},
   "outputs": [],
   "source": [
    "def check_prime(number):\n",
    "    sqrt_number = math.sqrt(number)\n",
    "    for i in range(2, int(sqrt_number) + 1):\n",
    "        if (number / i).is_integer():\n",
    "            return False\n",
    "    return True"
   ]
  },
  {
   "cell_type": "markdown",
   "metadata": {},
   "source": [
    "check_prime 함수는 최대 sqrt_number번 반복을 돌면서 순차적으로 계산"
   ]
  },
  {
   "cell_type": "code",
   "execution_count": 3,
   "metadata": {},
   "outputs": [],
   "source": [
    "def check_prime_vector(number):\n",
    "    sqrt_number = math.sqrt(number)\n",
    "    numbers = np.array(range(2,int(sqrt_number)+1))\n",
    "    for i in range(2, len(numbers), 5):\n",
    "        result = np.mod((number / numbers[i:(i+5)]), 1) == 0\n",
    "        if any(result):\n",
    "            return False\n",
    "    return True"
   ]
  },
  {
   "cell_type": "markdown",
   "metadata": {},
   "source": [
    "check_prime_vector 함수는 sqrt_number까지의 자연수를 5개씩 동시에 연산하여 연산량을 줄임"
   ]
  },
  {
   "cell_type": "code",
   "execution_count": 4,
   "metadata": {},
   "outputs": [
    {
     "name": "stdout",
     "output_type": "stream",
     "text": [
      "7.292000000047594e-06\n",
      "check_prime(10,000,000) = False\n",
      "1.4580000000652404e-06\n",
      "check_prime(10,000,019) = True\n"
     ]
    }
   ],
   "source": [
    "print(timeit.timeit(\"check_prime(10_000_000)\", number=1, globals=globals()))\n",
    "print(f\"check_prime(10,000,000) = {check_prime(10_000_000)}\")\n",
    "# check_prime(10,000,000) = False\n",
    "print(timeit.timeit(\"check_prime(10_000_000)\", number=1, globals=globals()))\n",
    "print(f\"check_prime(10,000,019) = {check_prime(10_000_019)}\")\n",
    "# check_prime(10,000,019) = True\n"
   ]
  },
  {
   "cell_type": "code",
   "execution_count": 5,
   "metadata": {},
   "outputs": [
    {
     "name": "stdout",
     "output_type": "stream",
     "text": [
      "0.0003014999999999546\n",
      "check_prime_vector(10,000,000) = False\n",
      "0.00021416699999998734\n",
      "check_prime_vector(10,000,019) = True\n"
     ]
    }
   ],
   "source": [
    "print(timeit.timeit(\"check_prime_vector(10_000_000)\", number=1, globals=globals()))\n",
    "print(f\"check_prime_vector(10,000,000) = {check_prime_vector(10_000_000)}\")\n",
    "# check_prime(10,000,000) = False\n",
    "print(timeit.timeit(\"check_prime_vector(10_000_000)\", number=1, globals=globals()))\n",
    "print(f\"check_prime_vector(10,000,019) = {check_prime_vector(10_000_019)}\")\n",
    "# check_prime(10,000,019) = True"
   ]
  },
  {
   "cell_type": "markdown",
   "metadata": {},
   "source": [
    "실제 작성한 5개씩 계산하는 코드가 더 느린 이유는 나누어 떨어지는지 판별하는 과정에서 연산이 오히려 더 많이 필요했기 때문"
   ]
  },
  {
   "cell_type": "code",
   "execution_count": 7,
   "metadata": {},
   "outputs": [],
   "source": [
    "def search_fast(haystack, needle):\n",
    "    for item in haystack:\n",
    "        if item == needle:\n",
    "            return True\n",
    "    return False\n",
    "\n",
    "\n",
    "def search_slow(haystack, needle):\n",
    "    return_value = False\n",
    "    for item in haystack:\n",
    "        if item == needle:\n",
    "            return_value = True\n",
    "    return return_value\n",
    "\n",
    "\n",
    "def search_unknown1(haystack, needle):\n",
    "    return any((item == needle for item in haystack))\n",
    "\n",
    "\n",
    "def search_unknown2(haystack, needle):\n",
    "    return any([item == needle for item in haystack])"
   ]
  },
  {
   "cell_type": "markdown",
   "metadata": {},
   "source": [
    "search_fast는 건초더미에서 바늘을 찾자마자 함수 중단하여 필요 없는 계산을 하지 않음\n",
    "search_slow는 모든 건초더미에서 바늘을 탐색하기 때문에 더 오래 걸림\n",
    "\n",
    "search_unknown1과 search_unknown2의 any 함수는 True가 한번이라도 발견이 된다면 이후는 보지 탐색하지 않고 반환\n",
    "search_unknown1은 generator로, item이 iter를 돌면서 값을 생성. 일반적으로 list보다 빠름."
   ]
  },
  {
   "cell_type": "code",
   "execution_count": 8,
   "metadata": {},
   "outputs": [
    {
     "name": "stdout",
     "output_type": "stream",
     "text": [
      "Testing search speed with 1000 items and needle close to the head of the list\n",
      "search_fast time: 2.34442e-07\n",
      "search_slow time: 2.02364e-05\n",
      "Testing search speed with 1000 items and needle close to the tail of the list\n",
      "search_fast time: 1.99202e-05\n",
      "search_slow time: 2.03021e-05\n"
     ]
    }
   ],
   "source": [
    "iterations = 10000\n",
    "haystack = list(range(1000))\n",
    "setup = \"from __main__ import (haystack, needle, search_fast, search_slow)\"\n",
    "needle = 5\n",
    "print(f\"Testing search speed with {len(haystack)} items and needle close to the head of the list\")\n",
    "\n",
    "t = timeit.timeit(stmt=\"search_fast(haystack, needle)\", setup=setup, number=iterations)\n",
    "print(f\"search_fast time: {t/iterations:.5e}\")\n",
    "\n",
    "t = timeit.timeit(stmt=\"search_slow(haystack, needle)\", setup=setup, number=iterations)\n",
    "print(f\"search_slow time: {t/iterations:.5e}\")\n",
    "\n",
    "needle = len(haystack) - 10\n",
    "print(f\"Testing search speed with {len(haystack)} items and needle close to the tail of the list\")\n",
    "\n",
    "t = timeit.timeit(stmt=\"search_fast(haystack, needle)\", setup=setup, number=iterations)\n",
    "print(f\"search_fast time: {t/iterations:.5e}\")\n",
    "\n",
    "t = timeit.timeit(stmt=\"search_slow(haystack, needle)\", setup=setup, number=iterations)\n",
    "print(f\"search_slow time: {t/iterations:.5e}\")"
   ]
  },
  {
   "cell_type": "code",
   "execution_count": 9,
   "metadata": {},
   "outputs": [
    {
     "name": "stdout",
     "output_type": "stream",
     "text": [
      "Testing search speed with 1000 items and needle close to the head of the list\n",
      "search_unknown1 time: 6.65383e-07\n",
      "search_unknown2 time: 3.10090e-05\n",
      "Testing search speed with 1000 items and needle close to the tail of the list\n",
      "search_unknown1 time: 4.03701e-05\n",
      "search_unknown2 time: 4.32348e-05\n"
     ]
    }
   ],
   "source": [
    "iterations = 10000\n",
    "haystack = list(range(1000))\n",
    "setup = \"from __main__ import (haystack, needle, search_unknown1, search_unknown2)\"\n",
    "needle = 5\n",
    "print(f\"Testing search speed with {len(haystack)} items and needle close to the head of the list\")\n",
    "\n",
    "t = timeit.timeit(stmt=\"search_unknown1(haystack, needle)\", setup=setup, number=iterations)\n",
    "print(f\"search_unknown1 time: {t/iterations:.5e}\")\n",
    "\n",
    "t = timeit.timeit(stmt=\"search_unknown2(haystack, needle)\", setup=setup, number=iterations)\n",
    "print(f\"search_unknown2 time: {t/iterations:.5e}\")\n",
    "\n",
    "needle = len(haystack) - 10\n",
    "print(f\"Testing search speed with {len(haystack)} items and needle close to the tail of the list\")\n",
    "\n",
    "t = timeit.timeit(stmt=\"search_unknown1(haystack, needle)\", setup=setup, number=iterations)\n",
    "print(f\"search_unknown1 time: {t/iterations:.5e}\")\n",
    "\n",
    "t = timeit.timeit(stmt=\"search_unknown2(haystack, needle)\", setup=setup, number=iterations)\n",
    "print(f\"search_unknown2 time: {t/iterations:.5e}\")"
   ]
  },
  {
   "cell_type": "code",
   "execution_count": null,
   "metadata": {},
   "outputs": [],
   "source": []
  }
 ],
 "metadata": {
  "kernelspec": {
   "display_name": "Python 3",
   "language": "python",
   "name": "python3"
  },
  "language_info": {
   "codemirror_mode": {
    "name": "ipython",
    "version": 3
   },
   "file_extension": ".py",
   "mimetype": "text/x-python",
   "name": "python",
   "nbconvert_exporter": "python",
   "pygments_lexer": "ipython3",
   "version": "3.9.6"
  }
 },
 "nbformat": 4,
 "nbformat_minor": 2
}
